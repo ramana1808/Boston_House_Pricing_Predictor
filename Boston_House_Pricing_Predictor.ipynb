{
 "cells": [
  {
   "cell_type": "markdown",
   "id": "b2ad109e",
   "metadata": {},
   "source": [
    "#  BOSTON HOUSING PRICES"
   ]
  },
  {
   "cell_type": "markdown",
   "id": "a47f7144",
   "metadata": {},
   "source": [
    "The given dataset has several parameters that contribute to the pricing of houses in Boston city, the motive is to work with the dataset and use a suitable model to predict housing prices in Boston"
   ]
  },
  {
   "cell_type": "markdown",
   "id": "45208557",
   "metadata": {},
   "source": [
    "## Importing necessary libraries to work with"
   ]
  },
  {
   "cell_type": "code",
   "execution_count": 1,
   "id": "3a7574d5",
   "metadata": {},
   "outputs": [],
   "source": [
    "import pandas as pd\n",
    "import numpy as np\n",
    "import matplotlib.pyplot as plt\n",
    "import seaborn as sb"
   ]
  },
  {
   "cell_type": "markdown",
   "id": "290d654c",
   "metadata": {},
   "source": [
    "## Loading the dataset"
   ]
  },
  {
   "cell_type": "code",
   "execution_count": 2,
   "id": "55d87781",
   "metadata": {},
   "outputs": [],
   "source": [
    "data = pd.read_csv('boston.csv')"
   ]
  },
  {
   "cell_type": "markdown",
   "id": "140e7201",
   "metadata": {},
   "source": [
    "##  Viewing data structure and Identifying the Target variable (dependent variable)"
   ]
  },
  {
   "cell_type": "code",
   "execution_count": 3,
   "id": "80110693",
   "metadata": {},
   "outputs": [
    {
     "data": {
      "text/html": [
       "<div>\n",
       "<style scoped>\n",
       "    .dataframe tbody tr th:only-of-type {\n",
       "        vertical-align: middle;\n",
       "    }\n",
       "\n",
       "    .dataframe tbody tr th {\n",
       "        vertical-align: top;\n",
       "    }\n",
       "\n",
       "    .dataframe thead th {\n",
       "        text-align: right;\n",
       "    }\n",
       "</style>\n",
       "<table border=\"1\" class=\"dataframe\">\n",
       "  <thead>\n",
       "    <tr style=\"text-align: right;\">\n",
       "      <th></th>\n",
       "      <th>CRIM</th>\n",
       "      <th>ZN</th>\n",
       "      <th>INDUS</th>\n",
       "      <th>CHAS</th>\n",
       "      <th>NOX</th>\n",
       "      <th>RM</th>\n",
       "      <th>AGE</th>\n",
       "      <th>DIS</th>\n",
       "      <th>RAD</th>\n",
       "      <th>TAX</th>\n",
       "      <th>PTRATIO</th>\n",
       "      <th>B</th>\n",
       "      <th>LSTAT</th>\n",
       "      <th>MEDV</th>\n",
       "    </tr>\n",
       "  </thead>\n",
       "  <tbody>\n",
       "    <tr>\n",
       "      <th>0</th>\n",
       "      <td>0.00632</td>\n",
       "      <td>18.0</td>\n",
       "      <td>2.31</td>\n",
       "      <td>0</td>\n",
       "      <td>0.538</td>\n",
       "      <td>6.575</td>\n",
       "      <td>65.2</td>\n",
       "      <td>4.0900</td>\n",
       "      <td>1</td>\n",
       "      <td>296.0</td>\n",
       "      <td>15.3</td>\n",
       "      <td>396.90</td>\n",
       "      <td>4.98</td>\n",
       "      <td>24.0</td>\n",
       "    </tr>\n",
       "    <tr>\n",
       "      <th>1</th>\n",
       "      <td>0.02731</td>\n",
       "      <td>0.0</td>\n",
       "      <td>7.07</td>\n",
       "      <td>0</td>\n",
       "      <td>0.469</td>\n",
       "      <td>6.421</td>\n",
       "      <td>78.9</td>\n",
       "      <td>4.9671</td>\n",
       "      <td>2</td>\n",
       "      <td>242.0</td>\n",
       "      <td>17.8</td>\n",
       "      <td>396.90</td>\n",
       "      <td>9.14</td>\n",
       "      <td>21.6</td>\n",
       "    </tr>\n",
       "    <tr>\n",
       "      <th>2</th>\n",
       "      <td>0.02729</td>\n",
       "      <td>0.0</td>\n",
       "      <td>7.07</td>\n",
       "      <td>0</td>\n",
       "      <td>0.469</td>\n",
       "      <td>7.185</td>\n",
       "      <td>61.1</td>\n",
       "      <td>4.9671</td>\n",
       "      <td>2</td>\n",
       "      <td>242.0</td>\n",
       "      <td>17.8</td>\n",
       "      <td>392.83</td>\n",
       "      <td>4.03</td>\n",
       "      <td>34.7</td>\n",
       "    </tr>\n",
       "    <tr>\n",
       "      <th>3</th>\n",
       "      <td>0.03237</td>\n",
       "      <td>0.0</td>\n",
       "      <td>2.18</td>\n",
       "      <td>0</td>\n",
       "      <td>0.458</td>\n",
       "      <td>6.998</td>\n",
       "      <td>45.8</td>\n",
       "      <td>6.0622</td>\n",
       "      <td>3</td>\n",
       "      <td>222.0</td>\n",
       "      <td>18.7</td>\n",
       "      <td>394.63</td>\n",
       "      <td>2.94</td>\n",
       "      <td>33.4</td>\n",
       "    </tr>\n",
       "    <tr>\n",
       "      <th>4</th>\n",
       "      <td>0.06905</td>\n",
       "      <td>0.0</td>\n",
       "      <td>2.18</td>\n",
       "      <td>0</td>\n",
       "      <td>0.458</td>\n",
       "      <td>7.147</td>\n",
       "      <td>54.2</td>\n",
       "      <td>6.0622</td>\n",
       "      <td>3</td>\n",
       "      <td>222.0</td>\n",
       "      <td>18.7</td>\n",
       "      <td>396.90</td>\n",
       "      <td>5.33</td>\n",
       "      <td>36.2</td>\n",
       "    </tr>\n",
       "  </tbody>\n",
       "</table>\n",
       "</div>"
      ],
      "text/plain": [
       "      CRIM    ZN  INDUS  CHAS    NOX     RM   AGE     DIS  RAD    TAX  \\\n",
       "0  0.00632  18.0   2.31     0  0.538  6.575  65.2  4.0900    1  296.0   \n",
       "1  0.02731   0.0   7.07     0  0.469  6.421  78.9  4.9671    2  242.0   \n",
       "2  0.02729   0.0   7.07     0  0.469  7.185  61.1  4.9671    2  242.0   \n",
       "3  0.03237   0.0   2.18     0  0.458  6.998  45.8  6.0622    3  222.0   \n",
       "4  0.06905   0.0   2.18     0  0.458  7.147  54.2  6.0622    3  222.0   \n",
       "\n",
       "   PTRATIO       B  LSTAT  MEDV  \n",
       "0     15.3  396.90   4.98  24.0  \n",
       "1     17.8  396.90   9.14  21.6  \n",
       "2     17.8  392.83   4.03  34.7  \n",
       "3     18.7  394.63   2.94  33.4  \n",
       "4     18.7  396.90   5.33  36.2  "
      ]
     },
     "execution_count": 3,
     "metadata": {},
     "output_type": "execute_result"
    }
   ],
   "source": [
    "data.head()"
   ]
  },
  {
   "cell_type": "markdown",
   "id": "f9e1f9ae",
   "metadata": {},
   "source": [
    "### `'MEDV'` is the Target Variable"
   ]
  },
  {
   "cell_type": "markdown",
   "id": "fea4a9e1",
   "metadata": {},
   "source": [
    "## Identifying higly correlated variables"
   ]
  },
  {
   "cell_type": "code",
   "execution_count": 4,
   "id": "5b5e9f69",
   "metadata": {},
   "outputs": [
    {
     "data": {
      "image/png": "[encoded data removed]",
      "text/plain": [
       "<Figure size 864x864 with 2 Axes>"
      ]
     },
     "metadata": {
      "needs_background": "light"
     },
     "output_type": "display_data"
    }
   ],
   "source": [
    "corr = data.corr()\n",
    "plt.figure(figsize = (12,12))\n",
    "sb.heatmap(corr, square=True, annot=True, cmap=\"YlOrBr\").set_title('Correlation between the factors')\n",
    "plt.show()"
   ]
  },
  {
   "cell_type": "markdown",
   "id": "1b49a3fe",
   "metadata": {},
   "source": [
    "### The following pairs of variables are highly correlated (r > 0.7) :\n",
    "* INDUS & NOX\n",
    "* INDUS & TAX\n",
    "* NOX & AGE\n",
    "* INDUS & DIS\n",
    "* NOX & DIS\n",
    "* AGE & DIS\n",
    "* RAD & TAX\n",
    "\n",
    "### choose  `'NOX'`, `'TAX'`\n",
    "### drop `'INDUS'`, `'AGE'`, `'DIS'`, `'RAD'`"
   ]
  },
  {
   "cell_type": "markdown",
   "id": "a3458666",
   "metadata": {},
   "source": [
    "## Eliminating strongly correlated variable pairs"
   ]
  },
  {
   "cell_type": "code",
   "execution_count": 5,
   "id": "eb610a45",
   "metadata": {},
   "outputs": [
    {
     "data": {
      "text/html": [
       "<div>\n",
       "<style scoped>\n",
       "    .dataframe tbody tr th:only-of-type {\n",
       "        vertical-align: middle;\n",
       "    }\n",
       "\n",
       "    .dataframe tbody tr th {\n",
       "        vertical-align: top;\n",
       "    }\n",
       "\n",
       "    .dataframe thead th {\n",
       "        text-align: right;\n",
       "    }\n",
       "</style>\n",
       "<table border=\"1\" class=\"dataframe\">\n",
       "  <thead>\n",
       "    <tr style=\"text-align: right;\">\n",
       "      <th></th>\n",
       "      <th>CRIM</th>\n",
       "      <th>ZN</th>\n",
       "      <th>CHAS</th>\n",
       "      <th>NOX</th>\n",
       "      <th>RM</th>\n",
       "      <th>TAX</th>\n",
       "      <th>PTRATIO</th>\n",
       "      <th>B</th>\n",
       "      <th>LSTAT</th>\n",
       "      <th>MEDV</th>\n",
       "    </tr>\n",
       "  </thead>\n",
       "  <tbody>\n",
       "    <tr>\n",
       "      <th>0</th>\n",
       "      <td>0.00632</td>\n",
       "      <td>18.0</td>\n",
       "      <td>0</td>\n",
       "      <td>0.538</td>\n",
       "      <td>6.575</td>\n",
       "      <td>296.0</td>\n",
       "      <td>15.3</td>\n",
       "      <td>396.90</td>\n",
       "      <td>4.98</td>\n",
       "      <td>24.0</td>\n",
       "    </tr>\n",
       "    <tr>\n",
       "      <th>1</th>\n",
       "      <td>0.02731</td>\n",
       "      <td>0.0</td>\n",
       "      <td>0</td>\n",
       "      <td>0.469</td>\n",
       "      <td>6.421</td>\n",
       "      <td>242.0</td>\n",
       "      <td>17.8</td>\n",
       "      <td>396.90</td>\n",
       "      <td>9.14</td>\n",
       "      <td>21.6</td>\n",
       "    </tr>\n",
       "    <tr>\n",
       "      <th>2</th>\n",
       "      <td>0.02729</td>\n",
       "      <td>0.0</td>\n",
       "      <td>0</td>\n",
       "      <td>0.469</td>\n",
       "      <td>7.185</td>\n",
       "      <td>242.0</td>\n",
       "      <td>17.8</td>\n",
       "      <td>392.83</td>\n",
       "      <td>4.03</td>\n",
       "      <td>34.7</td>\n",
       "    </tr>\n",
       "    <tr>\n",
       "      <th>3</th>\n",
       "      <td>0.03237</td>\n",
       "      <td>0.0</td>\n",
       "      <td>0</td>\n",
       "      <td>0.458</td>\n",
       "      <td>6.998</td>\n",
       "      <td>222.0</td>\n",
       "      <td>18.7</td>\n",
       "      <td>394.63</td>\n",
       "      <td>2.94</td>\n",
       "      <td>33.4</td>\n",
       "    </tr>\n",
       "    <tr>\n",
       "      <th>4</th>\n",
       "      <td>0.06905</td>\n",
       "      <td>0.0</td>\n",
       "      <td>0</td>\n",
       "      <td>0.458</td>\n",
       "      <td>7.147</td>\n",
       "      <td>222.0</td>\n",
       "      <td>18.7</td>\n",
       "      <td>396.90</td>\n",
       "      <td>5.33</td>\n",
       "      <td>36.2</td>\n",
       "    </tr>\n",
       "  </tbody>\n",
       "</table>\n",
       "</div>"
      ],
      "text/plain": [
       "      CRIM    ZN  CHAS    NOX     RM    TAX  PTRATIO       B  LSTAT  MEDV\n",
       "0  0.00632  18.0     0  0.538  6.575  296.0     15.3  396.90   4.98  24.0\n",
       "1  0.02731   0.0     0  0.469  6.421  242.0     17.8  396.90   9.14  21.6\n",
       "2  0.02729   0.0     0  0.469  7.185  242.0     17.8  392.83   4.03  34.7\n",
       "3  0.03237   0.0     0  0.458  6.998  222.0     18.7  394.63   2.94  33.4\n",
       "4  0.06905   0.0     0  0.458  7.147  222.0     18.7  396.90   5.33  36.2"
      ]
     },
     "execution_count": 5,
     "metadata": {},
     "output_type": "execute_result"
    }
   ],
   "source": [
    "new_data = data.drop(['INDUS', 'AGE', 'DIS', 'RAD'], axis='columns')\n",
    "new_data.head()"
   ]
  },
  {
   "cell_type": "markdown",
   "id": "e363d9e9",
   "metadata": {},
   "source": [
    "## One Hot Encoding the categorical variables"
   ]
  },
  {
   "cell_type": "code",
   "execution_count": 6,
   "id": "cd7ce05a",
   "metadata": {},
   "outputs": [],
   "source": [
    "categorical_variables = ['CHAS']"
   ]
  },
  {
   "cell_type": "code",
   "execution_count": 7,
   "id": "d7d015b4",
   "metadata": {},
   "outputs": [],
   "source": [
    "from sklearn.preprocessing import OneHotEncoder\n",
    "ohe = OneHotEncoder()\n",
    "catvar = ohe.fit_transform(new_data[categorical_variables]).toarray()"
   ]
  },
  {
   "cell_type": "markdown",
   "id": "5f60676e",
   "metadata": {},
   "source": [
    "## Normalizing the Dataset"
   ]
  },
  {
   "cell_type": "code",
   "execution_count": 8,
   "id": "9c68efb0",
   "metadata": {},
   "outputs": [],
   "source": [
    "continuous_variables = ['CRIM', 'ZN', 'NOX', 'RM', 'TAX', 'PTRATIO', 'B', 'LSTAT']"
   ]
  },
  {
   "cell_type": "code",
   "execution_count": 9,
   "id": "7b4052c8",
   "metadata": {},
   "outputs": [],
   "source": [
    "from sklearn.preprocessing import StandardScaler\n",
    "scaler=StandardScaler()\n",
    "scaler.fit(new_data[continuous_variables])\n",
    "scaled_data=scaler.transform(new_data[continuous_variables])"
   ]
  },
  {
   "cell_type": "markdown",
   "id": "f9a3f9a3",
   "metadata": {},
   "source": [
    "## Forming a matrix array of feature variables (continuous and categorical)"
   ]
  },
  {
   "cell_type": "code",
   "execution_count": 10,
   "id": "8445d762",
   "metadata": {},
   "outputs": [],
   "source": [
    "matrix = np.concatenate((scaled_data, catvar), axis=1)"
   ]
  },
  {
   "cell_type": "markdown",
   "id": "ab5e0ddf",
   "metadata": {},
   "source": [
    "## Using PCA for feature variables"
   ]
  },
  {
   "cell_type": "code",
   "execution_count": 11,
   "id": "642b69e6",
   "metadata": {},
   "outputs": [],
   "source": [
    "from sklearn.decomposition import PCA\n",
    "pca=PCA(n_components=2)\n",
    "pca.fit(matrix)\n",
    "x_pca=pca.transform(matrix)"
   ]
  },
  {
   "cell_type": "code",
   "execution_count": 12,
   "id": "5faff5bc",
   "metadata": {},
   "outputs": [
    {
     "data": {
      "image/png": "[encoded data removed]",
      "text/plain": [
       "<Figure size 648x432 with 1 Axes>"
      ]
     },
     "metadata": {
      "needs_background": "light"
     },
     "output_type": "display_data"
    }
   ],
   "source": [
    "plt.figure(figsize=(9,6))\n",
    "plt.scatter(x_pca[:,0],x_pca[:,1])\n",
    "plt.xlabel('First principle component')\n",
    "plt.ylabel('Second principle component')\n",
    "plt.show()"
   ]
  },
  {
   "cell_type": "markdown",
   "id": "9fe1b3de",
   "metadata": {},
   "source": [
    "### Close to a `quadratic` graph\n",
    "### We try polynomial regression (degree=2) and random forest regression models and choose the one that gives better results (Lower RMSE)"
   ]
  },
  {
   "cell_type": "markdown",
   "id": "7902275f",
   "metadata": {},
   "source": [
    "## Splitting dataset into test and train data (80:20)"
   ]
  },
  {
   "cell_type": "code",
   "execution_count": 13,
   "id": "847a57ae",
   "metadata": {},
   "outputs": [],
   "source": [
    "x = matrix\n",
    "y = new_data.iloc[:,-1]"
   ]
  },
  {
   "cell_type": "code",
   "execution_count": 14,
   "id": "560a4d8a",
   "metadata": {},
   "outputs": [],
   "source": [
    "from sklearn.model_selection import train_test_split\n",
    "x_train,x_test,y_train,y_test = train_test_split(x, y,test_size=0.20)"
   ]
  },
  {
   "cell_type": "markdown",
   "id": "3d41bec5",
   "metadata": {},
   "source": [
    "## Training using polynomial regression (degree=2) "
   ]
  },
  {
   "cell_type": "code",
   "execution_count": 15,
   "id": "7477afd8",
   "metadata": {},
   "outputs": [],
   "source": [
    "from sklearn.preprocessing import PolynomialFeatures\n",
    "from sklearn.linear_model import LinearRegression\n",
    "from sklearn.metrics import mean_squared_error\n",
    "\n",
    "poly = PolynomialFeatures(degree=2)\n",
    "poly.fit(x_train, y_train)\n",
    "\n",
    "model=LinearRegression()\n",
    "model.fit(poly.fit_transform(x_train),y_train)\n",
    "pred_train=model.predict(poly.fit_transform(x_train))\n",
    "pred_test=model.predict(poly.fit_transform(x_test))"
   ]
  },
  {
   "cell_type": "markdown",
   "id": "9017fd97",
   "metadata": {},
   "source": [
    "## Results (RMSE) for polynomial regression model "
   ]
  },
  {
   "cell_type": "code",
   "execution_count": 16,
   "id": "47d9a76d",
   "metadata": {},
   "outputs": [
    {
     "name": "stdout",
     "output_type": "stream",
     "text": [
      "RMSE in training dataset : 3.08695558175761\n",
      "RMSE in testing dataset : 3.1421914734033582\n"
     ]
    }
   ],
   "source": [
    "print('RMSE in training dataset :', np.sqrt(mean_squared_error(y_train, pred_train)))\n",
    "print('RMSE in testing dataset :', np.sqrt(mean_squared_error(y_test, pred_test)))"
   ]
  },
  {
   "cell_type": "markdown",
   "id": "6b904649",
   "metadata": {},
   "source": [
    "## Training using Random Forest Regressor"
   ]
  },
  {
   "cell_type": "code",
   "execution_count": 17,
   "id": "613765d0",
   "metadata": {},
   "outputs": [],
   "source": [
    "from sklearn.ensemble import RandomForestRegressor\n",
    "regressor = RandomForestRegressor()\n",
    "regressor.fit(x_train, y_train) \n",
    "pred_train = regressor.predict(x_train)\n",
    "pred_test = regressor.predict(x_test)"
   ]
  },
  {
   "cell_type": "markdown",
   "id": "d257a5d4",
   "metadata": {},
   "source": [
    "## Results (RMSE) for Random Forest Regressor Model "
   ]
  },
  {
   "cell_type": "code",
   "execution_count": 18,
   "id": "a5f60d3f",
   "metadata": {},
   "outputs": [
    {
     "name": "stdout",
     "output_type": "stream",
     "text": [
      "RMSE in training dataset : 1.4796403931595354\n",
      "RMSE in testing dataset : 2.6607148051810805\n"
     ]
    }
   ],
   "source": [
    "print('RMSE in training dataset :', np.sqrt(mean_squared_error(y_train, pred_train)))\n",
    "print('RMSE in testing dataset :', np.sqrt(mean_squared_error(y_test, pred_test)))"
   ]
  },
  {
   "cell_type": "markdown",
   "id": "da8cbbcb",
   "metadata": {},
   "source": [
    "### RandomForestRegressor model gives better results"
   ]
  },
  {
   "cell_type": "markdown",
   "id": "9884f285",
   "metadata": {},
   "source": [
    "## Using GridSearch to find the best set of hyperparameters"
   ]
  },
  {
   "cell_type": "code",
   "execution_count": 19,
   "id": "f8f928dc",
   "metadata": {},
   "outputs": [],
   "source": [
    "n_estimators = [x for x in range(0,100,5)]\n",
    "max_features = ['auto', 'sqrt', 'log2']\n",
    "max_depth = [2,4,6]\n",
    "min_samples_split = [1,2]\n",
    "min_samples_leaf = [1, 2]\n",
    "bootstrap = [True, False]"
   ]
  },
  {
   "cell_type": "code",
   "execution_count": 20,
   "id": "c0c866bb",
   "metadata": {},
   "outputs": [],
   "source": [
    "param_grid = {'n_estimators': n_estimators,\n",
    "              'max_features': max_features,\n",
    "              'max_depth': max_depth,\n",
    "              'min_samples_split': min_samples_split,\n",
    "              'min_samples_leaf': min_samples_leaf,\n",
    "              'bootstrap': bootstrap}"
   ]
  },
  {
   "cell_type": "code",
   "execution_count": 21,
   "id": "106bc8d6",
   "metadata": {},
   "outputs": [],
   "source": [
    "rf_Model = RandomForestRegressor()"
   ]
  },
  {
   "cell_type": "code",
   "execution_count": 22,
   "id": "8603d434",
   "metadata": {},
   "outputs": [
    {
     "name": "stdout",
     "output_type": "stream",
     "text": [
      "Fitting 3 folds for each of 1440 candidates, totalling 4320 fits\n"
     ]
    },
    {
     "name": "stderr",
     "output_type": "stream",
     "text": [
      "C:\\Users\\srama\\anaconda3\\lib\\site-packages\\sklearn\\model_selection\\_search.py:922: UserWarning: One or more of the test scores are non-finite: [       nan        nan        nan ... 0.82826074 0.83170791 0.82873273]\n",
      "  warnings.warn(\n"
     ]
    },
    {
     "data": {
      "text/plain": [
       "GridSearchCV(cv=3, estimator=RandomForestRegressor(), n_jobs=4,\n",
       "             param_grid={'bootstrap': [True, False], 'max_depth': [2, 4, 6],\n",
       "                         'max_features': ['auto', 'sqrt', 'log2'],\n",
       "                         'min_samples_leaf': [1, 2],\n",
       "                         'min_samples_split': [1, 2],\n",
       "                         'n_estimators': [0, 5, 10, 15, 20, 25, 30, 35, 40, 45,\n",
       "                                          50, 55, 60, 65, 70, 75, 80, 85, 90,\n",
       "                                          95]},\n",
       "             verbose=2)"
      ]
     },
     "execution_count": 22,
     "metadata": {},
     "output_type": "execute_result"
    }
   ],
   "source": [
    "from sklearn.model_selection import GridSearchCV\n",
    "rf_Grid = GridSearchCV(estimator = rf_Model, param_grid = param_grid, cv = 3, verbose=2, n_jobs = 4)\n",
    "rf_Grid.fit(x_train, y_train)"
   ]
  },
  {
   "cell_type": "markdown",
   "id": "49d16b0f",
   "metadata": {},
   "source": [
    "## Best Hyper-Parameters"
   ]
  },
  {
   "cell_type": "code",
   "execution_count": 23,
   "id": "fb2c0d72",
   "metadata": {},
   "outputs": [
    {
     "data": {
      "text/plain": [
       "{'bootstrap': False,\n",
       " 'max_depth': 6,\n",
       " 'max_features': 'sqrt',\n",
       " 'min_samples_leaf': 1,\n",
       " 'min_samples_split': 2,\n",
       " 'n_estimators': 70}"
      ]
     },
     "execution_count": 23,
     "metadata": {},
     "output_type": "execute_result"
    }
   ],
   "source": [
    "rf_Grid.best_params_"
   ]
  },
  {
   "cell_type": "markdown",
   "id": "f7dc9d93",
   "metadata": {},
   "source": [
    "## Fitting the best Hyper-Parameters in Random Forest Regressor"
   ]
  },
  {
   "cell_type": "code",
   "execution_count": 24,
   "id": "daf1f208",
   "metadata": {},
   "outputs": [],
   "source": [
    "from sklearn.ensemble import RandomForestRegressor\n",
    "regressor = RandomForestRegressor(n_estimators=65, max_depth=6, max_features='sqrt', min_samples_leaf=1, min_samples_split=2, bootstrap=False)\n",
    "regressor.fit(x_train, y_train) \n",
    "pred_train = regressor.predict(x_train)\n",
    "pred_test = regressor.predict(x_test)"
   ]
  },
  {
   "cell_type": "markdown",
   "id": "f0a0d50f",
   "metadata": {},
   "source": [
    "## Results(RMSE)"
   ]
  },
  {
   "cell_type": "code",
   "execution_count": 25,
   "id": "3a5885d7",
   "metadata": {},
   "outputs": [
    {
     "name": "stdout",
     "output_type": "stream",
     "text": [
      "RMSE in training dataset : 1.9048478028217015\n",
      "RMSE in testing dataset : 2.5733518833749818\n"
     ]
    }
   ],
   "source": [
    "print('RMSE in training dataset :', np.sqrt(mean_squared_error(y_train, pred_train)))\n",
    "print('RMSE in testing dataset :', np.sqrt(mean_squared_error(y_test, pred_test)))"
   ]
  },
  {
   "cell_type": "code",
   "execution_count": 26,
   "id": "1ab2f492",
   "metadata": {},
   "outputs": [
    {
     "name": "stdout",
     "output_type": "stream",
     "text": [
      "Train Accuracy - : 0.9583218951343581\n",
      "Test Accuracy - : 0.9020288430918777\n"
     ]
    }
   ],
   "source": [
    "print ('Train Accuracy - :', rf_Grid.score(x_train,y_train))\n",
    "print ('Test Accuracy - :',rf_Grid.score(x_test,y_test))"
   ]
  },
  {
   "cell_type": "markdown",
   "id": "4a07bdc6",
   "metadata": {},
   "source": [
    "# END"
   ]
  }
 ],
 "metadata": {
  "kernelspec": {
   "display_name": "Python 3 (ipykernel)",
   "language": "python",
   "name": "python3"
  },
  "language_info": {
   "codemirror_mode": {
    "name": "ipython",
    "version": 3
   },
   "file_extension": ".py",
   "mimetype": "text/x-python",
   "name": "python",
   "nbconvert_exporter": "python",
   "pygments_lexer": "ipython3",
   "version": "3.9.7"
  }
 },
 "nbformat": 4,
 "nbformat_minor": 5
}
